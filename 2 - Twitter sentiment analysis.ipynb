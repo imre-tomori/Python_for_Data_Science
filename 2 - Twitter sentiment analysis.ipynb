{
 "cells": [
  {
   "cell_type": "markdown",
   "metadata": {},
   "source": [
    "### apps.twitter\n",
    "app name: sentimentilizer"
   ]
  },
  {
   "cell_type": "code",
   "execution_count": 6,
   "metadata": {},
   "outputs": [],
   "source": [
    "from textblob import TextBlob\n",
    "import nltk"
   ]
  },
  {
   "cell_type": "code",
   "execution_count": 7,
   "metadata": {},
   "outputs": [],
   "source": [
    "import tweepy\n",
    "\n",
    "# Connect to twitter API\n",
    "\n",
    "consumer_key = 'xxxyyy'\n",
    "secret_key = 'xxxyyyzzz'\n",
    "\n",
    "access_token = 'zzzyyy'\n",
    "access_token_secret = 'zzzyyywww'\n",
    "\n",
    "auth = tweepy.OAuthHandler(consumer_key, secret_key)\n",
    "auth.set_access_token(access_token, access_token_secret)\n",
    "\n",
    "api = tweepy.API(auth)"
   ]
  },
  {
   "cell_type": "code",
   "execution_count": 8,
   "metadata": {},
   "outputs": [],
   "source": [
    "# Search for tweets\n",
    "public_tweets = api.search('Marcus Aurelius')"
   ]
  },
  {
   "cell_type": "code",
   "execution_count": 9,
   "metadata": {},
   "outputs": [
    {
     "name": "stdout",
     "output_type": "stream",
     "text": [
      "RT @LifeMathMoney: Do not act as if you had ten thousand years to throw away. \n",
      "Death stands at your elbow. \n",
      "Be good for something while you…\n",
      "Sentiment(polarity=0.35, subjectivity=0.30000000000000004)\n",
      "----------------------------------------------------------------\n",
      "RT @LifeMathMoney: Do not act as if you had ten thousand years to throw away. \n",
      "Death stands at your elbow. \n",
      "Be good for something while you…\n",
      "Sentiment(polarity=0.35, subjectivity=0.30000000000000004)\n",
      "----------------------------------------------------------------\n",
      "RT @Dr_Ulrichsen: Not even a mention of Jamal Khashoggi (but finds space to name-check Montesquieu and Marcus Aurelius) \n",
      "\n",
      "https://t.co/eruN…\n",
      "Sentiment(polarity=0.0, subjectivity=0.0)\n",
      "----------------------------------------------------------------\n",
      "RT @LanaGraceRiva: \"Very little is needed to make a happy life; it is all within yourself, in your way of thinking.\"\n",
      "~ Marcus Aurelius http…\n",
      "Sentiment(polarity=0.278125, subjectivity=0.825)\n",
      "----------------------------------------------------------------\n",
      "RT @LifeMathMoney: Do not act as if you had ten thousand years to throw away. \n",
      "Death stands at your elbow. \n",
      "Be good for something while you…\n",
      "Sentiment(polarity=0.35, subjectivity=0.30000000000000004)\n",
      "----------------------------------------------------------------\n",
      "@DCBlueStar @PostMalone “Death smiles at us all, but all a man can do is smile back.” Marcus Aurelius\n",
      "Sentiment(polarity=0.15, subjectivity=0.05)\n",
      "----------------------------------------------------------------\n",
      "Loss is nothing else but change, &amp; change is Nature's delight ~ Marcus Aelius Aurelius #quote\n",
      "Sentiment(polarity=0.0, subjectivity=0.0)\n",
      "----------------------------------------------------------------\n",
      "RT @bmutluseferoglu: Marcus Aurelius gibi bir imparatorun bu Dünya'da yürüdüğüne inanamıyorum. Hafsalam almıyor. İçimdeki liberal 'Doğru de…\n",
      "Sentiment(polarity=0.0, subjectivity=0.0)\n",
      "----------------------------------------------------------------\n",
      "RT @LifeMathMoney: Do not act as if you had ten thousand years to throw away. \n",
      "Death stands at your elbow. \n",
      "Be good for something while you…\n",
      "Sentiment(polarity=0.35, subjectivity=0.30000000000000004)\n",
      "----------------------------------------------------------------\n",
      "RT @LifeMathMoney: Do not act as if you had ten thousand years to throw away. \n",
      "Death stands at your elbow. \n",
      "Be good for something while you…\n",
      "Sentiment(polarity=0.35, subjectivity=0.30000000000000004)\n",
      "----------------------------------------------------------------\n",
      "Marcus Aurelius\n",
      "Sentiment(polarity=0.0, subjectivity=0.0)\n",
      "----------------------------------------------------------------\n",
      "@SpecterSaul @bmutluseferoglu Yanlış bilgi olmasın ? \n",
      "\n",
      "Çünkü ben Marcus kendisi imparatorluğu kandan almıyor diye b… https://t.co/I3MuyKSPVA\n",
      "Sentiment(polarity=0.0, subjectivity=0.0)\n",
      "----------------------------------------------------------------\n",
      "RT @LifeMathMoney: Do not act as if you had ten thousand years to throw away. \n",
      "Death stands at your elbow. \n",
      "Be good for something while you…\n",
      "Sentiment(polarity=0.35, subjectivity=0.30000000000000004)\n",
      "----------------------------------------------------------------\n",
      "RT @LifeMathMoney: Do not act as if you had ten thousand years to throw away. \n",
      "Death stands at your elbow. \n",
      "Be good for something while you…\n",
      "Sentiment(polarity=0.35, subjectivity=0.30000000000000004)\n",
      "----------------------------------------------------------------\n",
      "RT @LifeMathMoney: Do not act as if you had ten thousand years to throw away. \n",
      "Death stands at your elbow. \n",
      "Be good for something while you…\n",
      "Sentiment(polarity=0.35, subjectivity=0.30000000000000004)\n",
      "----------------------------------------------------------------\n"
     ]
    }
   ],
   "source": [
    "# Print and score tweets\n",
    "for tweet in public_tweets:\n",
    "    print(tweet.text)\n",
    "    tweet_analysis = TextBlob(tweet.text)\n",
    "    print(tweet_analysis.sentiment)\n",
    "    print('----------------------------------------------------------------')"
   ]
  }
 ],
 "metadata": {
  "kernelspec": {
   "display_name": "Python 3",
   "language": "python",
   "name": "python3"
  },
  "language_info": {
   "codemirror_mode": {
    "name": "ipython",
    "version": 3
   },
   "file_extension": ".py",
   "mimetype": "text/x-python",
   "name": "python",
   "nbconvert_exporter": "python",
   "pygments_lexer": "ipython3",
   "version": "3.7.4"
  }
 },
 "nbformat": 4,
 "nbformat_minor": 2
}
