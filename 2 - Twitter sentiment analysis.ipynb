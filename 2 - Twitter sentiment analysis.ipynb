{
 "cells": [
  {
   "cell_type": "markdown",
   "metadata": {},
   "source": [
    "### apps.twitter\n",
    "app name: sentimentilizer"
   ]
  },
  {
   "cell_type": "code",
   "execution_count": 3,
   "metadata": {},
   "outputs": [],
   "source": [
    "from textblob import TextBlob\n",
    "import nltk"
   ]
  },
  {
   "cell_type": "code",
   "execution_count": 4,
   "metadata": {},
   "outputs": [],
   "source": [
    "import tweepy\n",
    "\n",
    "# Connect to twitter API\n",
    "\n",
    "consumer_key = 'xxxyyy'\n",
    "secret_key = 'xxxyyyzzz'\n",
    "\n",
    "access_token = 'yyyzzz'\n",
    "access_token_secret = 'yyyzzzwww'\n",
    "\n",
    "auth = tweepy.OAuthHandler(consumer_key, secret_key)\n",
    "auth.set_access_token(access_token, access_token_secret)\n",
    "\n",
    "api = tweepy.API(auth)"
   ]
  },
  {
   "cell_type": "code",
   "execution_count": 5,
   "metadata": {},
   "outputs": [
    {
     "ename": "TweepError",
     "evalue": "[{'code': 89, 'message': 'Invalid or expired token.'}]",
     "output_type": "error",
     "traceback": [
      "\u001b[1;31m---------------------------------------------------------------------------\u001b[0m",
      "\u001b[1;31mTweepError\u001b[0m                                Traceback (most recent call last)",
      "\u001b[1;32m<ipython-input-5-5330ce6fe069>\u001b[0m in \u001b[0;36m<module>\u001b[1;34m\u001b[0m\n\u001b[0;32m      1\u001b[0m \u001b[1;31m# Search for tweets\u001b[0m\u001b[1;33m\u001b[0m\u001b[1;33m\u001b[0m\u001b[1;33m\u001b[0m\u001b[0m\n\u001b[1;32m----> 2\u001b[1;33m \u001b[0mpublic_tweets\u001b[0m \u001b[1;33m=\u001b[0m \u001b[0mapi\u001b[0m\u001b[1;33m.\u001b[0m\u001b[0msearch\u001b[0m\u001b[1;33m(\u001b[0m\u001b[1;34m'Marcus Aurelius'\u001b[0m\u001b[1;33m)\u001b[0m\u001b[1;33m\u001b[0m\u001b[1;33m\u001b[0m\u001b[0m\n\u001b[0m",
      "\u001b[1;32m~\\Anaconda3\\lib\\site-packages\\tweepy\\binder.py\u001b[0m in \u001b[0;36m_call\u001b[1;34m(*args, **kwargs)\u001b[0m\n\u001b[0;32m    248\u001b[0m                 \u001b[1;32mreturn\u001b[0m \u001b[0mmethod\u001b[0m\u001b[1;33m\u001b[0m\u001b[1;33m\u001b[0m\u001b[0m\n\u001b[0;32m    249\u001b[0m             \u001b[1;32melse\u001b[0m\u001b[1;33m:\u001b[0m\u001b[1;33m\u001b[0m\u001b[1;33m\u001b[0m\u001b[0m\n\u001b[1;32m--> 250\u001b[1;33m                 \u001b[1;32mreturn\u001b[0m \u001b[0mmethod\u001b[0m\u001b[1;33m.\u001b[0m\u001b[0mexecute\u001b[0m\u001b[1;33m(\u001b[0m\u001b[1;33m)\u001b[0m\u001b[1;33m\u001b[0m\u001b[1;33m\u001b[0m\u001b[0m\n\u001b[0m\u001b[0;32m    251\u001b[0m         \u001b[1;32mfinally\u001b[0m\u001b[1;33m:\u001b[0m\u001b[1;33m\u001b[0m\u001b[1;33m\u001b[0m\u001b[0m\n\u001b[0;32m    252\u001b[0m             \u001b[0mmethod\u001b[0m\u001b[1;33m.\u001b[0m\u001b[0msession\u001b[0m\u001b[1;33m.\u001b[0m\u001b[0mclose\u001b[0m\u001b[1;33m(\u001b[0m\u001b[1;33m)\u001b[0m\u001b[1;33m\u001b[0m\u001b[1;33m\u001b[0m\u001b[0m\n",
      "\u001b[1;32m~\\Anaconda3\\lib\\site-packages\\tweepy\\binder.py\u001b[0m in \u001b[0;36mexecute\u001b[1;34m(self)\u001b[0m\n\u001b[0;32m    231\u001b[0m                     \u001b[1;32mraise\u001b[0m \u001b[0mRateLimitError\u001b[0m\u001b[1;33m(\u001b[0m\u001b[0merror_msg\u001b[0m\u001b[1;33m,\u001b[0m \u001b[0mresp\u001b[0m\u001b[1;33m)\u001b[0m\u001b[1;33m\u001b[0m\u001b[1;33m\u001b[0m\u001b[0m\n\u001b[0;32m    232\u001b[0m                 \u001b[1;32melse\u001b[0m\u001b[1;33m:\u001b[0m\u001b[1;33m\u001b[0m\u001b[1;33m\u001b[0m\u001b[0m\n\u001b[1;32m--> 233\u001b[1;33m                     \u001b[1;32mraise\u001b[0m \u001b[0mTweepError\u001b[0m\u001b[1;33m(\u001b[0m\u001b[0merror_msg\u001b[0m\u001b[1;33m,\u001b[0m \u001b[0mresp\u001b[0m\u001b[1;33m,\u001b[0m \u001b[0mapi_code\u001b[0m\u001b[1;33m=\u001b[0m\u001b[0mapi_error_code\u001b[0m\u001b[1;33m)\u001b[0m\u001b[1;33m\u001b[0m\u001b[1;33m\u001b[0m\u001b[0m\n\u001b[0m\u001b[0;32m    234\u001b[0m \u001b[1;33m\u001b[0m\u001b[0m\n\u001b[0;32m    235\u001b[0m             \u001b[1;31m# Parse the response payload\u001b[0m\u001b[1;33m\u001b[0m\u001b[1;33m\u001b[0m\u001b[1;33m\u001b[0m\u001b[0m\n",
      "\u001b[1;31mTweepError\u001b[0m: [{'code': 89, 'message': 'Invalid or expired token.'}]"
     ]
    }
   ],
   "source": [
    "# Search for tweets\n",
    "public_tweets = api.search('Marcus Aurelius')"
   ]
  },
  {
   "cell_type": "code",
   "execution_count": 5,
   "metadata": {},
   "outputs": [
    {
     "name": "stdout",
     "output_type": "stream",
     "text": [
      "RT @G_S_Bhogal: Focusing Illusion: Nothing is ever as important as what you’re thinking about while you’re thinking about it. E.g. worrying…\n",
      "Sentiment(polarity=0.4, subjectivity=1.0)\n",
      "----------------------------------------------------------------\n",
      "RT @G_S_Bhogal: Focusing Illusion: Nothing is ever as important as what you’re thinking about while you’re thinking about it. E.g. worrying…\n",
      "Sentiment(polarity=0.4, subjectivity=1.0)\n",
      "----------------------------------------------------------------\n",
      "RT @G_S_Bhogal: Focusing Illusion: Nothing is ever as important as what you’re thinking about while you’re thinking about it. E.g. worrying…\n",
      "Sentiment(polarity=0.4, subjectivity=1.0)\n",
      "----------------------------------------------------------------\n",
      "RT @G_S_Bhogal: Focusing Illusion: Nothing is ever as important as what you’re thinking about while you’re thinking about it. E.g. worrying…\n",
      "Sentiment(polarity=0.4, subjectivity=1.0)\n",
      "----------------------------------------------------------------\n",
      "RT @G_S_Bhogal: Focusing Illusion: Nothing is ever as important as what you’re thinking about while you’re thinking about it. E.g. worrying…\n",
      "Sentiment(polarity=0.4, subjectivity=1.0)\n",
      "----------------------------------------------------------------\n",
      "RT @yawyr_vk: @JamesClear 1. Siddhartha\n",
      "2. Poor Charlie's Almanack\n",
      "3. Meditations (Marcus Aurelius)\n",
      "4. Sapiens (this was by accident, as I…\n",
      "Sentiment(polarity=-0.4, subjectivity=0.6)\n",
      "----------------------------------------------------------------\n",
      "RT @G_S_Bhogal: Focusing Illusion: Nothing is ever as important as what you’re thinking about while you’re thinking about it. E.g. worrying…\n",
      "Sentiment(polarity=0.4, subjectivity=1.0)\n",
      "----------------------------------------------------------------\n",
      "RT @QUOTEDLEGENDS: Don’t be ashamed of needing help. \n",
      "\n",
      "— Marcus Aurelius\n",
      "Sentiment(polarity=0.0, subjectivity=0.0)\n",
      "----------------------------------------------------------------\n",
      "RT @G_S_Bhogal: Focusing Illusion: Nothing is ever as important as what you’re thinking about while you’re thinking about it. E.g. worrying…\n",
      "Sentiment(polarity=0.4, subjectivity=1.0)\n",
      "----------------------------------------------------------------\n",
      "@MarcCorbishley Good morning!\n",
      "\n",
      "Marcus Aurelius\n",
      "\n",
      "“When you arise in the morning, think of what a precious privilege … https://t.co/Cqy28IwRdf\n",
      "Sentiment(polarity=0.6875, subjectivity=0.8)\n",
      "----------------------------------------------------------------\n",
      "@JamesTreakle @gang4610 @blackbelt_jp No one likes homework, but Marcus Aurelius has a few pointers that would make… https://t.co/du0m9Z3V0u\n",
      "Sentiment(polarity=-0.2, subjectivity=0.1)\n",
      "----------------------------------------------------------------\n",
      "RT @maria_nn_a: \"Your mind will take the shape of what you frequently hold in thought, for the human spirit is colored by such impressions.…\n",
      "Sentiment(polarity=0.03333333333333333, subjectivity=0.3)\n",
      "----------------------------------------------------------------\n",
      "RT @G_S_Bhogal: Focusing Illusion: Nothing is ever as important as what you’re thinking about while you’re thinking about it. E.g. worrying…\n",
      "Sentiment(polarity=0.4, subjectivity=1.0)\n",
      "----------------------------------------------------------------\n",
      "\"When you arise in the Morning think of what a precious privilage it is To be Alive..To Think..To Enjoy..To Love.\"     Marcus Aurelius\n",
      "Sentiment(polarity=0.5, subjectivity=0.8)\n",
      "----------------------------------------------------------------\n",
      "RT @G_S_Bhogal: Focusing Illusion: Nothing is ever as important as what you’re thinking about while you’re thinking about it. E.g. worrying…\n",
      "Sentiment(polarity=0.4, subjectivity=1.0)\n",
      "----------------------------------------------------------------\n"
     ]
    }
   ],
   "source": [
    "# Print and score tweets\n",
    "for tweet in public_tweets:\n",
    "    print(tweet.text)\n",
    "    tweet_analysis = TextBlob(tweet.text)\n",
    "    print(tweet_analysis.sentiment)\n",
    "    print('----------------------------------------------------------------')"
   ]
  }
 ],
 "metadata": {
  "kernelspec": {
   "display_name": "Python 3",
   "language": "python",
   "name": "python3"
  },
  "language_info": {
   "codemirror_mode": {
    "name": "ipython",
    "version": 3
   },
   "file_extension": ".py",
   "mimetype": "text/x-python",
   "name": "python",
   "nbconvert_exporter": "python",
   "pygments_lexer": "ipython3",
   "version": "3.7.4"
  }
 },
 "nbformat": 4,
 "nbformat_minor": 2
}
