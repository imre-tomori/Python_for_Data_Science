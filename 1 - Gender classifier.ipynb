{
 "cells": [
  {
   "cell_type": "code",
   "execution_count": 1,
   "metadata": {},
   "outputs": [],
   "source": [
    "from sklearn import tree, ensemble\n",
    "import numpy as np\n",
    "import matplotlib.pyplot as plt"
   ]
  },
  {
   "cell_type": "code",
   "execution_count": 2,
   "metadata": {},
   "outputs": [],
   "source": [
    "# Declare classifiers\n",
    "\n",
    "# Decision Tree\n",
    "clf_tree = tree.DecisionTreeClassifier()\n",
    "# Extra Tree\n",
    "clf_extra_tree = ensemble.ExtraTreesClassifier()\n",
    "# Random Forest\n",
    "clf_random_forest = ensemble.RandomForestClassifier()\n",
    "# Bagging\n",
    "clf_bagging = ensemble.BaggingClassifier()\n",
    "\n",
    "clf_tree2 = tree.DecisionTreeClassifier(max_depth=4)"
   ]
  },
  {
   "cell_type": "code",
   "execution_count": 3,
   "metadata": {},
   "outputs": [],
   "source": [
    "# Test dataset [height, weight, shoe_size]\n",
    "X = [[181, 80, 44], [177, 70, 43], [160, 60, 38], [154, 54, 37], [166, 65, 40], [190, 90, 47],\n",
    "     [175, 64, 39],[177, 70, 40], [159, 55, 37], [171, 75, 42], [181, 85, 43]]\n",
    "\n",
    "Y = ['male', 'male', 'female', 'female', 'male', 'male', 'female', 'female', 'female', 'male', 'male']\n",
    "\n",
    "male_measures = np.zeros_like(X)\n",
    "female_measures = np.zeros_like(X)"
   ]
  },
  {
   "cell_type": "code",
   "execution_count": 4,
   "metadata": {},
   "outputs": [
    {
     "name": "stdout",
     "output_type": "stream",
     "text": [
      "[[181  80  44]\n",
      " [177  70  43]\n",
      " [  0   0   0]\n",
      " [  0   0   0]\n",
      " [166  65  40]\n",
      " [190  90  47]\n",
      " [  0   0   0]\n",
      " [  0   0   0]\n",
      " [  0   0   0]\n",
      " [171  75  42]\n",
      " [181  85  43]]\n",
      "[96.90909091 42.27272727 23.54545455]\n",
      "[[  0   0   0]\n",
      " [  0   0   0]\n",
      " [160  60  38]\n",
      " [154  54  37]\n",
      " [  0   0   0]\n",
      " [  0   0   0]\n",
      " [175  64  39]\n",
      " [177  70  40]\n",
      " [159  55  37]\n",
      " [  0   0   0]\n",
      " [  0   0   0]]\n",
      "[75.         27.54545455 17.36363636]\n"
     ]
    }
   ],
   "source": [
    "# Show gender matrix and means\n",
    "for n in range(len(Y)):\n",
    "    if Y[n] == 'male':\n",
    "        male_measures[n] = X[n]\n",
    "    elif Y[n] == 'female':\n",
    "        female_measures[n] = X[n]\n",
    "\n",
    "male_mean = np.mean(male_measures, axis=0)\n",
    "female_mean = np.mean(female_measures, axis=0)\n",
    "print(male_measures)\n",
    "print(male_mean)\n",
    "print(female_measures)\n",
    "print(female_mean)"
   ]
  },
  {
   "cell_type": "code",
   "execution_count": 5,
   "metadata": {},
   "outputs": [
    {
     "name": "stderr",
     "output_type": "stream",
     "text": [
      "C:\\Users\\maloq\\Anaconda3\\lib\\site-packages\\sklearn\\ensemble\\forest.py:245: FutureWarning: The default value of n_estimators will change from 10 in version 0.20 to 100 in 0.22.\n",
      "  \"10 in version 0.20 to 100 in 0.22.\", FutureWarning)\n",
      "C:\\Users\\maloq\\Anaconda3\\lib\\site-packages\\sklearn\\ensemble\\forest.py:245: FutureWarning: The default value of n_estimators will change from 10 in version 0.20 to 100 in 0.22.\n",
      "  \"10 in version 0.20 to 100 in 0.22.\", FutureWarning)\n"
     ]
    }
   ],
   "source": [
    "# Train the data on the clasifiers\n",
    "clf_tree = clf_tree.fit(X, Y)\n",
    "clf_extra_tree = clf_extra_tree.fit(X, Y)\n",
    "clf_random_forest = clf_random_forest.fit(X, Y)\n",
    "clf_bagging = clf_bagging.fit(X, Y)"
   ]
  },
  {
   "cell_type": "code",
   "execution_count": 8,
   "metadata": {},
   "outputs": [
    {
     "data": {
      "text/plain": [
       "[Text(200.88000000000002, 190.26, 'X[2] <= 41.0\\ngini = 0.496\\nsamples = 11\\nvalue = [5, 6]'),\n",
       " Text(133.92000000000002, 135.9, 'X[2] <= 39.5\\ngini = 0.278\\nsamples = 6\\nvalue = [5, 1]'),\n",
       " Text(66.96000000000001, 81.53999999999999, 'gini = 0.0\\nsamples = 4\\nvalue = [4, 0]'),\n",
       " Text(200.88000000000002, 81.53999999999999, 'X[0] <= 171.5\\ngini = 0.5\\nsamples = 2\\nvalue = [1, 1]'),\n",
       " Text(133.92000000000002, 27.180000000000007, 'gini = 0.0\\nsamples = 1\\nvalue = [0, 1]'),\n",
       " Text(267.84000000000003, 27.180000000000007, 'gini = 0.0\\nsamples = 1\\nvalue = [1, 0]'),\n",
       " Text(267.84000000000003, 135.9, 'gini = 0.0\\nsamples = 5\\nvalue = [0, 5]')]"
      ]
     },
     "execution_count": 8,
     "metadata": {},
     "output_type": "execute_result"
    },
    {
     "data": {
      "image/png": "[encoded data removed]",
      "text/plain": [
       "<Figure size 432x288 with 1 Axes>"
      ]
     },
     "metadata": {
      "needs_background": "light"
     },
     "output_type": "display_data"
    }
   ],
   "source": [
    "# Plot decision tree\n",
    "tree.plot_tree(clf_tree)"
   ]
  },
  {
   "cell_type": "code",
   "execution_count": 11,
   "metadata": {},
   "outputs": [],
   "source": [
    "# Store predictions for test value\n",
    "test_value = [172, 69, 40]\n",
    "test_gender = ['male']\n",
    "\n",
    "prediction_tree = clf_tree.predict([test_value])\n",
    "prediction_extra_tree = clf_extra_tree.predict([test_value])\n",
    "prediction_random_forest = clf_random_forest.predict([test_value])\n",
    "prediction_bagging = clf_bagging.predict([test_value])"
   ]
  },
  {
   "cell_type": "code",
   "execution_count": 12,
   "metadata": {},
   "outputs": [
    {
     "name": "stdout",
     "output_type": "stream",
     "text": [
      "['female']\n",
      "['female']\n",
      "['female']\n",
      "['female']\n",
      "The correct classifier methods are: ['', '', '', '']\n"
     ]
    }
   ],
   "source": [
    "# Compare the reusults for the different classifiers and print the correct ones.\n",
    "\n",
    "predictions = [[prediction_tree, 'Decision Tree'],\n",
    "               [prediction_extra_tree, 'Extra Tree'],\n",
    "               [prediction_random_forest, 'Random Forest'],\n",
    "               [prediction_bagging, 'Bagging']]\n",
    "\n",
    "correct_predictors = ['','','','']\n",
    "\n",
    "for n in range(4):\n",
    "    print(predictions[n][0])\n",
    "    correct_predictors[n]\n",
    "    if predictions[n][0] == test_gender:\n",
    "        correct_predictors[n] = predictions[n][1]\n",
    "        \n",
    "print('The correct classifier methods are:', correct_predictors)\n"
   ]
  },
  {
   "cell_type": "code",
   "execution_count": null,
   "metadata": {},
   "outputs": [],
   "source": []
  },
  {
   "cell_type": "code",
   "execution_count": null,
   "metadata": {},
   "outputs": [],
   "source": []
  }
 ],
 "metadata": {
  "kernelspec": {
   "display_name": "Python 3",
   "language": "python",
   "name": "python3"
  },
  "language_info": {
   "codemirror_mode": {
    "name": "ipython",
    "version": 3
   },
   "file_extension": ".py",
   "mimetype": "text/x-python",
   "name": "python",
   "nbconvert_exporter": "python",
   "pygments_lexer": "ipython3",
   "version": "3.7.4"
  }
 },
 "nbformat": 4,
 "nbformat_minor": 2
}
