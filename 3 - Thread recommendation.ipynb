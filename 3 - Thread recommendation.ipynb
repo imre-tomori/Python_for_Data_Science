{
 "cells": [
  {
   "cell_type": "code",
   "execution_count": 1,
   "metadata": {},
   "outputs": [
    {
     "name": "stderr",
     "output_type": "stream",
     "text": [
      "C:\\Users\\maloq\\Anaconda3\\lib\\site-packages\\lightfm\\_lightfm_fast.py:9: UserWarning: LightFM was compiled without OpenMP support. Only a single thread will be used.\n",
      "  warnings.warn('LightFM was compiled without OpenMP support. '\n"
     ]
    }
   ],
   "source": [
    "import numpy as np\n",
    "import scipy\n",
    "from lightfm.datasets import fetch_stackexchange\n",
    "from lightfm import LightFM, evaluation"
   ]
  },
  {
   "cell_type": "code",
   "execution_count": 2,
   "metadata": {},
   "outputs": [
    {
     "name": "stdout",
     "output_type": "stream",
     "text": [
      "<661x72360 sparse matrix of type '<class 'numpy.float32'>'\n",
      "\twith 40701 stored elements in COOrdinate format>\n",
      "<661x72360 sparse matrix of type '<class 'numpy.float32'>'\n",
      "\twith 8108 stored elements in COOrdinate format>\n"
     ]
    }
   ],
   "source": [
    "# Fetch Q&A data from stackexchange\n",
    "data = fetch_stackexchange('crossvalidated', test_set_fraction = 0.25, min_training_interactions = 10)\n",
    "#The datasets contain users answering questions: an interaction is defined as a user answering a given question.\n",
    "print(repr(data['train']))\n",
    "print(repr(data['test']))"
   ]
  },
  {
   "cell_type": "markdown",
   "metadata": {},
   "source": [
    "### Dataset contains the followings:\n",
    "\n",
    "    train (sp.coo_matrix of shape [n_users, n_items]) – Contains training set interactions.\n",
    "    test (sp.coo_matrix of shape [n_users, n_items]) – Contains testing set interactions.\n",
    "    item_features (sp.csr_matrix of shape [n_items, n_item_features]) – Contains item features.\n",
    "    item_feature_labels (np.array of strings of shape [n_item_features,]) – Labels of item features.\n"
   ]
  },
  {
   "cell_type": "code",
   "execution_count": 3,
   "metadata": {},
   "outputs": [
    {
     "data": {
      "text/plain": [
       "<lightfm.lightfm.LightFM at 0x1ff9afc1108>"
      ]
     },
     "execution_count": 3,
     "metadata": {},
     "output_type": "execute_result"
    }
   ],
   "source": [
    "# Create models\n",
    "bpr_model = LightFM(loss='bpr')\n",
    "warp_model = LightFM(loss='warp')\n",
    "warp_kos_model = LightFM(loss='warp-kos', k = 3, n = 3)\n",
    "# Train model \n",
    "# Epochs -> number of runs, num_threads -> parallel runs\n",
    "bpr_model.fit(data['train'], epochs = 30, num_threads = 2) \n",
    "warp_model.fit(data['train'], epochs = 30, num_threads = 2) \n",
    "warp_kos_model.fit(data['train'], epochs = 30, num_threads = 2) "
   ]
  },
  {
   "cell_type": "code",
   "execution_count": 4,
   "metadata": {},
   "outputs": [
    {
     "name": "stdout",
     "output_type": "stream",
     "text": [
      "Precision of BPR model: 0.088%\n",
      "Precision of WARP model: 0.058%\n",
      "Precision of k-OS WARP model: 0.088%\n"
     ]
    }
   ],
   "source": [
    "# Measure the precision at k metric for a model: \n",
    "bpr_precision = evaluation.precision_at_k(bpr_model, data['test'], k=10).mean()\n",
    "warp_precision = evaluation.precision_at_k(warp_model, data['test'], k=10).mean()\n",
    "warp_kos_precision = evaluation.precision_at_k(warp_kos_model, data['test'], k=10).mean()\n",
    "\n",
    "print('Precision of BPR model:', \"{:.3%}\".format(bpr_precision))\n",
    "print('Precision of WARP model:', \"{:.3%}\".format(warp_precision))\n",
    "print('Precision of k-OS WARP model:', \"{:.3%}\".format(warp_kos_precision))"
   ]
  },
  {
   "cell_type": "code",
   "execution_count": 5,
   "metadata": {},
   "outputs": [],
   "source": [
    "def multi_recommendation(model, data, user_ids):\n",
    "    \"\"\" \n",
    "    Recommend threads for users based on their previous interactions.     \n",
    "    \"\"\"    \n",
    "    \n",
    "    # Number of users and threads in the training data\n",
    "    n_users, n_items = data['train'].shape\n",
    "    \n",
    "    # Generate recommendation for each user we input\n",
    "    for user_id in user_ids:\n",
    "        \n",
    "        # Threads they already posted\n",
    "        known_positives = data['item_feature_labels'][data['train'].tocsr()[user_id].indices]\n",
    "        # Posts our model predicts they could like\n",
    "        scores = model.predict(user_id, np.arange(n_items))\n",
    "        # Sort them for the most fitting to least\n",
    "        # argsort creates an array of indices, lowest score is the best fit\n",
    "        top_items = data['item_feature_labels'][np.argsort(-scores)] \n",
    "        \n",
    "        # Print out the results\n",
    "        print('User ', user_id)\n",
    "        print('Known positives:')\n",
    "        \n",
    "        for x in known_positives[:3]:\n",
    "            print('   ',x)\n",
    "            \n",
    "        print('Recommendation:')\n",
    "        \n",
    "        for x in top_items[:3]:\n",
    "            print('   ',x)\n",
    "            \n",
    "        print('\\n')"
   ]
  },
  {
   "cell_type": "code",
   "execution_count": 6,
   "metadata": {},
   "outputs": [
    {
     "name": "stdout",
     "output_type": "stream",
     "text": [
      "BPR model recommendations:\n",
      "\n",
      "User  25\n",
      "Known positives:\n",
      "    question_id:3\n",
      "    question_id:20\n",
      "    question_id:41\n",
      "Recommendation:\n",
      "    question_id:170\n",
      "    question_id:69\n",
      "    question_id:1067\n",
      "\n",
      "\n",
      "WARP model recommendations:\n",
      "\n",
      "User  25\n",
      "Known positives:\n",
      "    question_id:3\n",
      "    question_id:20\n",
      "    question_id:41\n",
      "Recommendation:\n",
      "    question_id:1121\n",
      "    question_id:1293\n",
      "    question_id:42\n",
      "\n",
      "\n",
      "k-OS WARP model recommendations:\n",
      "\n",
      "User  25\n",
      "Known positives:\n",
      "    question_id:3\n",
      "    question_id:20\n",
      "    question_id:41\n",
      "Recommendation:\n",
      "    question_id:1460\n",
      "    question_id:259\n",
      "    question_id:580\n",
      "\n",
      "\n"
     ]
    }
   ],
   "source": [
    "# Sample recommendations for user '25'\n",
    "\n",
    "user_ids = [25]\n",
    "\n",
    "print('BPR model recommendations:\\n')\n",
    "multi_recommendation(bpr_model, data, user_ids)\n",
    "print('WARP model recommendations:\\n')\n",
    "multi_recommendation(warp_model, data, user_ids)\n",
    "print('k-OS WARP model recommendations:\\n')\n",
    "multi_recommendation(warp_kos_model, data, user_ids)"
   ]
  }
 ],
 "metadata": {
  "kernelspec": {
   "display_name": "Python 3",
   "language": "python",
   "name": "python3"
  },
  "language_info": {
   "codemirror_mode": {
    "name": "ipython",
    "version": 3
   },
   "file_extension": ".py",
   "mimetype": "text/x-python",
   "name": "python",
   "nbconvert_exporter": "python",
   "pygments_lexer": "ipython3",
   "version": "3.7.4"
  }
 },
 "nbformat": 4,
 "nbformat_minor": 2
}
